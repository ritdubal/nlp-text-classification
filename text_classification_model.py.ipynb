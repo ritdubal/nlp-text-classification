{
 "cells": [
  {
   "cell_type": "code",
   "execution_count": 10,
   "id": "0655f75c",
   "metadata": {},
   "outputs": [],
   "source": [
    "import os\n",
    "import sys\n",
    "import pandas as pd\n",
    "import text_classification as tc\n",
    "import nltk\n",
    "import re\n",
    "import json\n",
    "import boto3\n",
    "import sagemaker\n",
    "from sagemaker.serverless import ServerlessInferenceConfig"
   ]
  },
  {
   "cell_type": "code",
   "execution_count": 13,
   "id": "08c5d641",
   "metadata": {},
   "outputs": [
    {
     "name": "stdout",
     "output_type": "stream",
     "text": [
      "role :  arn:aws:iam::768516036628:role/SageMaker-MLEngineer\n",
      "bucket :  sagemaker-ap-south-1-768516036628\n"
     ]
    }
   ],
   "source": [
    "sess = sagemaker.Session()\n",
    "\n",
    "role = sagemaker.get_execution_role()\n",
    "print(\"role : \", role)\n",
    "\n",
    "bucket = sess.default_bucket()\n",
    "print(\"bucket : \", bucket)\n",
    "\n",
    "tc._s3_bucket_name = bucket"
   ]
  },
  {
   "cell_type": "code",
   "execution_count": 14,
   "id": "67429405",
   "metadata": {},
   "outputs": [
    {
     "name": "stdout",
     "output_type": "stream",
     "text": [
      "s3_train_filePath :  s3://sagemaker-ap-south-1-768516036628/002_dataset/dbpedia_csv/train.csv\n"
     ]
    },
    {
     "data": {
      "text/html": [
       "<div>\n",
       "<style scoped>\n",
       "    .dataframe tbody tr th:only-of-type {\n",
       "        vertical-align: middle;\n",
       "    }\n",
       "\n",
       "    .dataframe tbody tr th {\n",
       "        vertical-align: top;\n",
       "    }\n",
       "\n",
       "    .dataframe thead th {\n",
       "        text-align: right;\n",
       "    }\n",
       "</style>\n",
       "<table border=\"1\" class=\"dataframe\">\n",
       "  <thead>\n",
       "    <tr style=\"text-align: right;\">\n",
       "      <th></th>\n",
       "      <th>0</th>\n",
       "      <th>1</th>\n",
       "      <th>2</th>\n",
       "    </tr>\n",
       "  </thead>\n",
       "  <tbody>\n",
       "    <tr>\n",
       "      <th>0</th>\n",
       "      <td>1</td>\n",
       "      <td>E. D. Abbott Ltd</td>\n",
       "      <td>Abbott of Farnham E D Abbott Limited was a Br...</td>\n",
       "    </tr>\n",
       "    <tr>\n",
       "      <th>1</th>\n",
       "      <td>1</td>\n",
       "      <td>Schwan-Stabilo</td>\n",
       "      <td>Schwan-STABILO is a German maker of pens for ...</td>\n",
       "    </tr>\n",
       "    <tr>\n",
       "      <th>2</th>\n",
       "      <td>1</td>\n",
       "      <td>Q-workshop</td>\n",
       "      <td>Q-workshop is a Polish company located in Poz...</td>\n",
       "    </tr>\n",
       "    <tr>\n",
       "      <th>3</th>\n",
       "      <td>1</td>\n",
       "      <td>Marvell Software Solutions Israel</td>\n",
       "      <td>Marvell Software Solutions Israel known as RA...</td>\n",
       "    </tr>\n",
       "    <tr>\n",
       "      <th>4</th>\n",
       "      <td>1</td>\n",
       "      <td>Bergan Mercy Medical Center</td>\n",
       "      <td>Bergan Mercy Medical Center is a hospital loc...</td>\n",
       "    </tr>\n",
       "  </tbody>\n",
       "</table>\n",
       "</div>"
      ],
      "text/plain": [
       "   0                                  1  \\\n",
       "0  1                   E. D. Abbott Ltd   \n",
       "1  1                     Schwan-Stabilo   \n",
       "2  1                         Q-workshop   \n",
       "3  1  Marvell Software Solutions Israel   \n",
       "4  1        Bergan Mercy Medical Center   \n",
       "\n",
       "                                                   2  \n",
       "0   Abbott of Farnham E D Abbott Limited was a Br...  \n",
       "1   Schwan-STABILO is a German maker of pens for ...  \n",
       "2   Q-workshop is a Polish company located in Poz...  \n",
       "3   Marvell Software Solutions Israel known as RA...  \n",
       "4   Bergan Mercy Medical Center is a hospital loc...  "
      ]
     },
     "execution_count": 14,
     "metadata": {},
     "output_type": "execute_result"
    }
   ],
   "source": [
    "s3_train_filePath = 's3://{}/{}{}'.format(tc._s3_bucket_name, tc._s3_dataset_dir, tc._train_dataset_filePath)\n",
    "print(\"s3_train_filePath : \", s3_train_filePath)\n",
    "train_df = pd.read_csv(s3_train_filePath, header=None)\n",
    "train_df.head(5)"
   ]
  },
  {
   "cell_type": "code",
   "execution_count": 15,
   "id": "81c37fd4",
   "metadata": {},
   "outputs": [
    {
     "name": "stdout",
     "output_type": "stream",
     "text": [
      "s3_test_filePath :  s3://sagemaker-ap-south-1-768516036628/002_dataset/dbpedia_csv/test.csv\n"
     ]
    },
    {
     "data": {
      "text/html": [
       "<div>\n",
       "<style scoped>\n",
       "    .dataframe tbody tr th:only-of-type {\n",
       "        vertical-align: middle;\n",
       "    }\n",
       "\n",
       "    .dataframe tbody tr th {\n",
       "        vertical-align: top;\n",
       "    }\n",
       "\n",
       "    .dataframe thead th {\n",
       "        text-align: right;\n",
       "    }\n",
       "</style>\n",
       "<table border=\"1\" class=\"dataframe\">\n",
       "  <thead>\n",
       "    <tr style=\"text-align: right;\">\n",
       "      <th></th>\n",
       "      <th>0</th>\n",
       "      <th>1</th>\n",
       "      <th>2</th>\n",
       "    </tr>\n",
       "  </thead>\n",
       "  <tbody>\n",
       "    <tr>\n",
       "      <th>0</th>\n",
       "      <td>1</td>\n",
       "      <td>TY KU</td>\n",
       "      <td>TY KU /taɪkuː/ is an American alcoholic bever...</td>\n",
       "    </tr>\n",
       "    <tr>\n",
       "      <th>1</th>\n",
       "      <td>1</td>\n",
       "      <td>Odd Lot Entertainment</td>\n",
       "      <td>OddLot Entertainment founded in 2001 by longt...</td>\n",
       "    </tr>\n",
       "    <tr>\n",
       "      <th>2</th>\n",
       "      <td>1</td>\n",
       "      <td>Henkel</td>\n",
       "      <td>Henkel AG &amp; Company KGaA operates worldwide w...</td>\n",
       "    </tr>\n",
       "    <tr>\n",
       "      <th>3</th>\n",
       "      <td>1</td>\n",
       "      <td>GOAT Store</td>\n",
       "      <td>The GOAT Store (Games Of All Type Store) LLC ...</td>\n",
       "    </tr>\n",
       "    <tr>\n",
       "      <th>4</th>\n",
       "      <td>1</td>\n",
       "      <td>RagWing Aircraft Designs</td>\n",
       "      <td>RagWing Aircraft Designs (also called the Rag...</td>\n",
       "    </tr>\n",
       "  </tbody>\n",
       "</table>\n",
       "</div>"
      ],
      "text/plain": [
       "   0                         1  \\\n",
       "0  1                     TY KU   \n",
       "1  1     Odd Lot Entertainment   \n",
       "2  1                    Henkel   \n",
       "3  1                GOAT Store   \n",
       "4  1  RagWing Aircraft Designs   \n",
       "\n",
       "                                                   2  \n",
       "0   TY KU /taɪkuː/ is an American alcoholic bever...  \n",
       "1   OddLot Entertainment founded in 2001 by longt...  \n",
       "2   Henkel AG & Company KGaA operates worldwide w...  \n",
       "3   The GOAT Store (Games Of All Type Store) LLC ...  \n",
       "4   RagWing Aircraft Designs (also called the Rag...  "
      ]
     },
     "execution_count": 15,
     "metadata": {},
     "output_type": "execute_result"
    }
   ],
   "source": [
    "s3_test_filePath = 's3://{}/{}{}'.format(tc._s3_bucket_name, tc._s3_dataset_dir, tc._test_dataset_filePath)\n",
    "print(\"s3_test_filePath : \", s3_test_filePath)\n",
    "test_df = pd.read_csv(s3_test_filePath, header=None)\n",
    "test_df.head(5)"
   ]
  },
  {
   "cell_type": "code",
   "execution_count": 16,
   "id": "d75a3036",
   "metadata": {},
   "outputs": [
    {
     "data": {
      "text/plain": [
       "'s3://sagemaker-ap-south-1-768516036628/004_output/'"
      ]
     },
     "execution_count": 16,
     "metadata": {},
     "output_type": "execute_result"
    }
   ],
   "source": [
    "s3_output = 's3://{}/{}'.format(tc._s3_bucket_name, tc._s3_output_dir)\n",
    "s3_output"
   ]
  },
  {
   "cell_type": "code",
   "execution_count": 17,
   "id": "91855c28",
   "metadata": {},
   "outputs": [
    {
     "name": "stdout",
     "output_type": "stream",
     "text": [
      "region_name :  ap-south-1\n"
     ]
    }
   ],
   "source": [
    "region_name = boto3.Session().region_name\n",
    "print(\"region_name : \", region_name)"
   ]
  },
  {
   "cell_type": "code",
   "execution_count": 18,
   "id": "b1e6590f",
   "metadata": {},
   "outputs": [
    {
     "name": "stderr",
     "output_type": "stream",
     "text": [
      "The method get_image_uri has been renamed in sagemaker>=2.\n",
      "See: https://sagemaker.readthedocs.io/en/stable/v2.html for details.\n",
      "Defaulting to the only supported framework/algorithm version: 1. Ignoring framework/algorithm version: latest.\n"
     ]
    },
    {
     "name": "stdout",
     "output_type": "stream",
     "text": [
      "Using SageMaker BlazingText container: 991648021394.dkr.ecr.ap-south-1.amazonaws.com/blazingtext:1 (ap-south-1)\n"
     ]
    }
   ],
   "source": [
    "container = sagemaker.amazon.amazon_estimator.get_image_uri(region_name, \"blazingtext\", \"latest\")\n",
    "print('Using SageMaker BlazingText container: {} ({})'.format(container, region_name))"
   ]
  },
  {
   "cell_type": "code",
   "execution_count": 19,
   "id": "b460e88a",
   "metadata": {},
   "outputs": [
    {
     "name": "stderr",
     "output_type": "stream",
     "text": [
      "train_instance_count has been renamed in sagemaker>=2.\n",
      "See: https://sagemaker.readthedocs.io/en/stable/v2.html for details.\n",
      "train_instance_type has been renamed in sagemaker>=2.\n",
      "See: https://sagemaker.readthedocs.io/en/stable/v2.html for details.\n",
      "train_max_run has been renamed in sagemaker>=2.\n",
      "See: https://sagemaker.readthedocs.io/en/stable/v2.html for details.\n",
      "train_volume_size has been renamed in sagemaker>=2.\n",
      "See: https://sagemaker.readthedocs.io/en/stable/v2.html for details.\n"
     ]
    }
   ],
   "source": [
    "bt_model = sagemaker.estimator.Estimator(container,\n",
    "                                         role, \n",
    "                                         train_instance_count=1, \n",
    "                                         train_instance_type='ml.c4.4xlarge',\n",
    "                                         train_volume_size = 30,\n",
    "                                         train_max_run = 360000,\n",
    "                                         input_mode= 'File',\n",
    "                                         output_path=s3_output,\n",
    "                                         sagemaker_session=sess)"
   ]
  },
  {
   "cell_type": "code",
   "execution_count": 20,
   "id": "d135680d",
   "metadata": {},
   "outputs": [],
   "source": [
    "bt_model.set_hyperparameters(mode=\"supervised\",\n",
    "                            epochs=10,\n",
    "                            min_count=2,\n",
    "                            learning_rate=0.05,\n",
    "                            vector_dim=10,\n",
    "                            early_stopping=True,\n",
    "                            patience=4,\n",
    "                            min_epochs=5,\n",
    "                            word_ngrams=2)"
   ]
  },
  {
   "cell_type": "code",
   "execution_count": 25,
   "id": "434377cb",
   "metadata": {},
   "outputs": [
    {
     "name": "stdout",
     "output_type": "stream",
     "text": [
      "s3_train_data :  s3://sagemaker-ap-south-1-768516036628/003_dataset/dbpedia.train\n",
      "s3_validation_data :  s3://sagemaker-ap-south-1-768516036628/003_dataset/dbpedia.validation\n"
     ]
    }
   ],
   "source": [
    "s3_train_data = 's3://{}/{}{}'.format(tc._s3_bucket_name, tc._s3_preprocessed_dataset_dir, tc._transformed_train_filePath)\n",
    "s3_validation_data = 's3://{}/{}{}'.format(tc._s3_bucket_name, tc._s3_preprocessed_dataset_dir, tc._transformed_test_filePath)\n",
    "print(\"s3_train_data : \", s3_train_data)\n",
    "print(\"s3_validation_data : \", s3_validation_data)"
   ]
  },
  {
   "cell_type": "code",
   "execution_count": 26,
   "id": "a9102c94",
   "metadata": {},
   "outputs": [
    {
     "name": "stderr",
     "output_type": "stream",
     "text": [
      "WARNING:sagemaker.deprecations:The class sagemaker.session.s3_input has been renamed in sagemaker>=2.\n",
      "See: https://sagemaker.readthedocs.io/en/stable/v2.html for details.\n",
      "WARNING:sagemaker.deprecations:The class sagemaker.session.s3_input has been renamed in sagemaker>=2.\n",
      "See: https://sagemaker.readthedocs.io/en/stable/v2.html for details.\n"
     ]
    }
   ],
   "source": [
    "train_data = sagemaker.session.s3_input(s3_train_data, distribution='FullyReplicated', \n",
    "                        content_type='text/plain', s3_data_type='S3Prefix')\n",
    "validation_data = sagemaker.session.s3_input(s3_validation_data, distribution='FullyReplicated', \n",
    "                             content_type='text/plain', s3_data_type='S3Prefix')\n",
    "data_channels = {'train': train_data, 'validation': validation_data}"
   ]
  },
  {
   "cell_type": "code",
   "execution_count": 27,
   "id": "e3932eb4",
   "metadata": {},
   "outputs": [
    {
     "name": "stderr",
     "output_type": "stream",
     "text": [
      "INFO:sagemaker:Creating training-job with name: blazingtext-2023-04-07-08-28-51-060\n"
     ]
    },
    {
     "name": "stdout",
     "output_type": "stream",
     "text": [
      "2023-04-07 08:28:51 Starting - Starting the training job...\n",
      "2023-04-07 08:29:05 Starting - Preparing the instances for training......\n",
      "2023-04-07 08:30:18 Downloading - Downloading input data\n",
      "2023-04-07 08:30:18 Training - Training image download completed. Training in progress...\u001b[34mArguments: train\u001b[0m\n",
      "\u001b[34m[04/07/2023 08:30:29 WARNING 139676824971072] Loggers have already been setup.\u001b[0m\n",
      "\u001b[34m[04/07/2023 08:30:29 WARNING 139676824971072] Loggers have already been setup.\u001b[0m\n",
      "\u001b[34m[04/07/2023 08:30:29 INFO 139676824971072] nvidia-smi took: 0.025225162506103516 secs to identify 0 gpus\u001b[0m\n",
      "\u001b[34m[04/07/2023 08:30:29 INFO 139676824971072] Running single machine CPU BlazingText training using supervised mode.\u001b[0m\n",
      "\u001b[34mNumber of CPU sockets found in instance is  1\u001b[0m\n",
      "\u001b[34m[04/07/2023 08:30:29 INFO 139676824971072] Processing /opt/ml/input/data/train/dbpedia.train . File size: 35.036842346191406 MB\u001b[0m\n",
      "\u001b[34m[04/07/2023 08:30:29 INFO 139676824971072] Processing /opt/ml/input/data/validation/dbpedia.validation . File size: 21.887577056884766 MB\u001b[0m\n",
      "\u001b[34mRead 6M words\u001b[0m\n",
      "\u001b[34mNumber of words:  149105\u001b[0m\n",
      "\u001b[34mLoading validation data from /opt/ml/input/data/validation/dbpedia.validation\u001b[0m\n",
      "\u001b[34mLoaded validation data.\u001b[0m\n",
      "\u001b[34m-------------- End of epoch: 6\u001b[0m\n",
      "\u001b[34mUsing 16 threads for prediction!\u001b[0m\n",
      "\u001b[34mValidation accuracy: 0.970357\u001b[0m\n",
      "\u001b[34mValidation accuracy improved! Storing best weights...\u001b[0m\n",
      "\u001b[34m##### Alpha: 0.0188  Progress: 62.46%  Million Words/sec: 31.84 #####\u001b[0m\n",
      "\u001b[34m##### Alpha: 0.0157  Progress: 68.56%  Million Words/sec: 32.30 #####\u001b[0m\n",
      "\u001b[34m##### Alpha: 0.0124  Progress: 75.12%  Million Words/sec: 32.90 #####\u001b[0m\n",
      "\u001b[34m-------------- End of epoch: 7\u001b[0m\n",
      "\u001b[34mUsing 16 threads for prediction!\u001b[0m\n",
      "\u001b[34mValidation accuracy: 0.971343\u001b[0m\n",
      "\u001b[34mValidation accuracy improved! Storing best weights...\u001b[0m\n",
      "\u001b[34m##### Alpha: 0.0094  Progress: 81.19%  Million Words/sec: 29.29 #####\u001b[0m\n",
      "\u001b[34m-------------- End of epoch: 8\u001b[0m\n",
      "\u001b[34mUsing 16 threads for prediction!\u001b[0m\n",
      "\u001b[34mValidation accuracy: 0.971971\u001b[0m\n",
      "\u001b[34mValidation accuracy improved! Storing best weights...\u001b[0m\n",
      "\u001b[34m##### Alpha: 0.0063  Progress: 87.30%  Million Words/sec: 26.80 #####\u001b[0m\n",
      "\u001b[34m##### Alpha: 0.0031  Progress: 93.79%  Million Words/sec: 27.44 #####\u001b[0m\n",
      "\u001b[34m-------------- End of epoch: 9\u001b[0m\n",
      "\u001b[34mUsing 16 threads for prediction!\u001b[0m\n",
      "\u001b[34mValidation accuracy: 0.972129\u001b[0m\n",
      "\u001b[34mValidation accuracy improved! Storing best weights...\u001b[0m\n",
      "\u001b[34m##### Alpha: 0.0000  Progress: 99.99%  Million Words/sec: 25.63 #####\u001b[0m\n",
      "\u001b[34m-------------- End of epoch: 10\u001b[0m\n",
      "\u001b[34mUsing 16 threads for prediction!\u001b[0m\n",
      "\u001b[34mValidation accuracy: 0.9721\u001b[0m\n",
      "\u001b[34mValidation accuracy has not improved for last 1 epochs.\u001b[0m\n",
      "\u001b[34m##### Alpha: 0.0000  Progress: 100.00%  Million Words/sec: 24.00 #####\u001b[0m\n",
      "\u001b[34mTraining finished.\u001b[0m\n",
      "\u001b[34mAverage throughput in Million words/sec: 24.00\u001b[0m\n",
      "\u001b[34mTotal training time in seconds: 2.60\u001b[0m\n",
      "\u001b[34m#train_accuracy: 0.987\u001b[0m\n",
      "\u001b[34mNumber of train examples: 112000\u001b[0m\n",
      "\u001b[34m#validation_accuracy: 0.9721\u001b[0m\n",
      "\u001b[34mNumber of validation examples: 70000\u001b[0m\n",
      "\n",
      "2023-04-07 08:30:43 Uploading - Uploading generated training model\n",
      "2023-04-07 08:31:04 Completed - Training job completed\n",
      "Training seconds: 72\n",
      "Billable seconds: 72\n"
     ]
    }
   ],
   "source": [
    "bt_model.fit(inputs=data_channels, logs=True)"
   ]
  },
  {
   "cell_type": "code",
   "execution_count": 28,
   "id": "2ab363c4",
   "metadata": {},
   "outputs": [
    {
     "name": "stderr",
     "output_type": "stream",
     "text": [
      "INFO:sagemaker:Creating model with name: blazingtext-2023-04-07-08-31-38-684\n",
      "INFO:sagemaker:Creating endpoint-config with name blazingtext-2023-04-07-08-31-38-684\n",
      "INFO:sagemaker:Creating endpoint with name blazingtext-2023-04-07-08-31-38-684\n"
     ]
    },
    {
     "name": "stdout",
     "output_type": "stream",
     "text": [
      "----!"
     ]
    },
    {
     "name": "stderr",
     "output_type": "stream",
     "text": [
      "WARNING:sagemaker.deprecations:The endpoint attribute has been renamed in sagemaker>=2.\n",
      "See: https://sagemaker.readthedocs.io/en/stable/v2.html for details.\n"
     ]
    },
    {
     "name": "stdout",
     "output_type": "stream",
     "text": [
      "endpoint path :  blazingtext-2023-04-07-08-31-38-684\n"
     ]
    }
   ],
   "source": [
    "serverless_config = ServerlessInferenceConfig()\n",
    "text_classifier = bt_model.deploy(serverless_inference_config=serverless_config)\n",
    "print(\"endpoint path : \", text_classifier.endpoint)"
   ]
  },
  {
   "cell_type": "code",
   "execution_count": 30,
   "id": "14c64a40",
   "metadata": {},
   "outputs": [],
   "source": [
    "text_classifier_cp = text_classifier"
   ]
  },
  {
   "cell_type": "code",
   "execution_count": 31,
   "id": "4b16d0f4",
   "metadata": {},
   "outputs": [],
   "source": [
    "REPLACE_NO_SPACE = re.compile(\"(\\.)|(\\;)|(\\:)|(\\!)|(\\')|(\\?)|(\\,)|(\\\")|(\\()|(\\))|(\\[)|(\\])\")\n",
    "REPLACE_WITH_SPACE = re.compile(\"(<br\\s*/><br\\s*/>)|(\\-)|(\\/)\")\n",
    "\n",
    "def review_to_words(review):\n",
    "    words = REPLACE_NO_SPACE.sub(\"\", review.lower())\n",
    "    words = REPLACE_WITH_SPACE.sub(\" \", words)\n",
    "    return words"
   ]
  },
  {
   "cell_type": "code",
   "execution_count": 32,
   "id": "1d2336a1",
   "metadata": {},
   "outputs": [],
   "source": [
    "def test_the_model(original_sentences):\n",
    "    sentences = [' '.join(nltk.word_tokenize(sent)) for sent in original_sentences]\n",
    "    tokenized_sentences = [review_to_words(sentence) for sentence in sentences]\n",
    "    payload = {\"instances\" : tokenized_sentences}\n",
    "    results = text_classifier.predict(json.dumps(payload), initial_args={'ContentType': 'application/json'})\n",
    "    predictions = json.loads(results)\n",
    "    for index, predict in enumerate(predictions):\n",
    "        predict.update({'input': original_sentences[index]})\n",
    "    return predictions"
   ]
  },
  {
   "cell_type": "code",
   "execution_count": 33,
   "id": "00452347",
   "metadata": {},
   "outputs": [
    {
     "name": "stdout",
     "output_type": "stream",
     "text": [
      "[\n",
      "    {\n",
      "        \"label\": [\n",
      "            \"__label__Plant\"\n",
      "        ],\n",
      "        \"prob\": [\n",
      "            1.0000064373016357\n",
      "        ],\n",
      "        \"input\": \"beilschmiedia kweo beilschmiedia kweo is a species of plant in the lauraceae family . it is endemic to tanzania .\"\n",
      "    },\n",
      "    {\n",
      "        \"label\": [\n",
      "            \"__label__Album\"\n",
      "        ],\n",
      "        \"prob\": [\n",
      "            0.999957799911499\n",
      "        ],\n",
      "        \"input\": \"empire burlesque empire burlesque is the twenty-third studio album by american singer-songwriter bob dylan released on june 10 1985 on columbia records . self-produced the album peaked at number thirty-three in the us and at number eleven in the uk.accompanied by multiple session musicians\\u2014including tom petty & the heartbreakers members mike campbell benmont tench and howie epstein\\u2014the album foregrounds a distinct 80s style aesthetic .\"\n",
      "    },\n",
      "    {\n",
      "        \"label\": [\n",
      "            \"__label__Animal\"\n",
      "        ],\n",
      "        \"prob\": [\n",
      "            0.9945312738418579\n",
      "        ],\n",
      "        \"input\": \"synodontis sp . nov. 'lower tana ' synodontis sp . nov. 'lower tana ' is a species of fish in the mochokidae family . it is endemic to kenya . its natural habitat is rivers .\"\n",
      "    },\n",
      "    {\n",
      "        \"label\": [\n",
      "            \"__label__Album\"\n",
      "        ],\n",
      "        \"prob\": [\n",
      "            1.0000098943710327\n",
      "        ],\n",
      "        \"input\": \"songs from the earth songs from the earth is the first album by horrorpunk/deathrock supergroup son of sam . the album was a tribute to glenn danzig 's former band samhain though there are no cover songs on the album .\"\n",
      "    },\n",
      "    {\n",
      "        \"label\": [\n",
      "            \"__label__WrittenWork\"\n",
      "        ],\n",
      "        \"prob\": [\n",
      "            0.9991356730461121\n",
      "        ],\n",
      "        \"input\": \"stay in your own sled stay in your own sled ( russian : \\u043d\\u0435 \\u0432 \\u0441\\u0432\\u043e\\u0438 \\u0441\\u0430\\u043d\\u0438 \\u043d\\u0435 \\u0441\\u0430\\u0434\\u0438\\u0441\\u044c ) an idiom meaning do n't bite off more than you can chew is a play by alexander ostrovsky written in 1852 and first published in the no.5 ( march book 1 ) 1853 issue of moskvityanin . it was premiered in bolshoi theatre on january 14 1853 .\"\n",
      "    }\n",
      "]\n"
     ]
    },
    {
     "data": {
      "text/html": [
       "<div>\n",
       "<style scoped>\n",
       "    .dataframe tbody tr th:only-of-type {\n",
       "        vertical-align: middle;\n",
       "    }\n",
       "\n",
       "    .dataframe tbody tr th {\n",
       "        vertical-align: top;\n",
       "    }\n",
       "\n",
       "    .dataframe thead th {\n",
       "        text-align: right;\n",
       "    }\n",
       "</style>\n",
       "<table border=\"1\" class=\"dataframe\">\n",
       "  <thead>\n",
       "    <tr style=\"text-align: right;\">\n",
       "      <th></th>\n",
       "      <th>label</th>\n",
       "      <th>prob</th>\n",
       "      <th>input</th>\n",
       "    </tr>\n",
       "  </thead>\n",
       "  <tbody>\n",
       "    <tr>\n",
       "      <th>0</th>\n",
       "      <td>[__label__Plant]</td>\n",
       "      <td>[1.0000064373016357]</td>\n",
       "      <td>beilschmiedia kweo beilschmiedia kweo is a spe...</td>\n",
       "    </tr>\n",
       "    <tr>\n",
       "      <th>1</th>\n",
       "      <td>[__label__Album]</td>\n",
       "      <td>[0.999957799911499]</td>\n",
       "      <td>empire burlesque empire burlesque is the twent...</td>\n",
       "    </tr>\n",
       "    <tr>\n",
       "      <th>2</th>\n",
       "      <td>[__label__Animal]</td>\n",
       "      <td>[0.9945312738418579]</td>\n",
       "      <td>synodontis sp . nov. 'lower tana ' synodontis ...</td>\n",
       "    </tr>\n",
       "    <tr>\n",
       "      <th>3</th>\n",
       "      <td>[__label__Album]</td>\n",
       "      <td>[1.0000098943710327]</td>\n",
       "      <td>songs from the earth songs from the earth is t...</td>\n",
       "    </tr>\n",
       "    <tr>\n",
       "      <th>4</th>\n",
       "      <td>[__label__WrittenWork]</td>\n",
       "      <td>[0.9991356730461121]</td>\n",
       "      <td>stay in your own sled stay in your own sled ( ...</td>\n",
       "    </tr>\n",
       "  </tbody>\n",
       "</table>\n",
       "</div>"
      ],
      "text/plain": [
       "                    label                  prob  \\\n",
       "0        [__label__Plant]  [1.0000064373016357]   \n",
       "1        [__label__Album]   [0.999957799911499]   \n",
       "2       [__label__Animal]  [0.9945312738418579]   \n",
       "3        [__label__Album]  [1.0000098943710327]   \n",
       "4  [__label__WrittenWork]  [0.9991356730461121]   \n",
       "\n",
       "                                               input  \n",
       "0  beilschmiedia kweo beilschmiedia kweo is a spe...  \n",
       "1  empire burlesque empire burlesque is the twent...  \n",
       "2  synodontis sp . nov. 'lower tana ' synodontis ...  \n",
       "3  songs from the earth songs from the earth is t...  \n",
       "4  stay in your own sled stay in your own sled ( ...  "
      ]
     },
     "execution_count": 33,
     "metadata": {},
     "output_type": "execute_result"
    }
   ],
   "source": [
    "original_sentences = [\n",
    "\"beilschmiedia kweo beilschmiedia kweo is a species of plant in the lauraceae family . it is endemic to tanzania .\",\n",
    "\"empire burlesque empire burlesque is the twenty-third studio album by american singer-songwriter bob dylan released on june 10 1985 on columbia records . self-produced the album peaked at number thirty-three in the us and at number eleven in the uk.accompanied by multiple session musicians—including tom petty & the heartbreakers members mike campbell benmont tench and howie epstein—the album foregrounds a distinct 80s style aesthetic .\",\n",
    "\"synodontis sp . nov. 'lower tana ' synodontis sp . nov. 'lower tana ' is a species of fish in the mochokidae family . it is endemic to kenya . its natural habitat is rivers .\",\n",
    "\"songs from the earth songs from the earth is the first album by horrorpunk/deathrock supergroup son of sam . the album was a tribute to glenn danzig 's former band samhain though there are no cover songs on the album .\",\n",
    "\"stay in your own sled stay in your own sled ( russian : не в свои сани не садись ) an idiom meaning do n't bite off more than you can chew is a play by alexander ostrovsky written in 1852 and first published in the no.5 ( march book 1 ) 1853 issue of moskvityanin . it was premiered in bolshoi theatre on january 14 1853 .\"\n",
    "]\n",
    "predictions = test_the_model(original_sentences)\n",
    "print(json.dumps(predictions, indent=4))\n",
    "tested_data = pd.DataFrame(predictions)\n",
    "tested_data"
   ]
  }
 ],
 "metadata": {
  "kernelspec": {
   "display_name": "conda_python3",
   "language": "python",
   "name": "conda_python3"
  },
  "language_info": {
   "codemirror_mode": {
    "name": "ipython",
    "version": 3
   },
   "file_extension": ".py",
   "mimetype": "text/x-python",
   "name": "python",
   "nbconvert_exporter": "python",
   "pygments_lexer": "ipython3",
   "version": "3.10.8"
  }
 },
 "nbformat": 4,
 "nbformat_minor": 5
}
